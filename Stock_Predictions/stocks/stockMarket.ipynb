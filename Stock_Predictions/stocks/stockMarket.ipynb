{
 "cells": [
  {
   "cell_type": "code",
   "execution_count": 1,
   "metadata": {},
   "outputs": [],
   "source": [
    "import numpy as np\n",
    "from datetime import datetime\n",
    "import smtplib\n",
    "import time\n",
    "from selenium import webdriver\n",
    "import os"
   ]
  },
  {
   "cell_type": "code",
   "execution_count": 2,
   "metadata": {},
   "outputs": [],
   "source": [
    "#For Prediction\n",
    "from sklearn.linear_model import LinearRegression\n",
    "from sklearn.model_selection import train_test_split\n",
    "from sklearn import preprocessing, svm"
   ]
  },
  {
   "cell_type": "code",
   "execution_count": 3,
   "metadata": {},
   "outputs": [],
   "source": [
    "from iexfinance.stocks import Stock\n",
    "from iexfinance.stocks import get_historical_data"
   ]
  },
  {
   "cell_type": "code",
   "execution_count": 4,
   "metadata": {},
   "outputs": [],
   "source": [
    "def getStocks(n):\n",
    "    driver = webdriver.Chrome('/usr/local/bin/chromedriver')\n",
    "    url=\"https://finance.yahoo.com/screener/predefined/aggressive_small_caps?offset=0&count=202\"\n",
    "    driver.get(url)\n",
    "    stock_list = []\n",
    "    n += 1\n",
    "    for i in range(1, n):\n",
    "        ticker = driver.find_element_by_xpath('//*[@id=\"scr-res-table\"]/div[1]/table/tbody/tr['+str(i)+']/td[1]')\n",
    "        stock_list.append(ticker.text)\n",
    "    driver.quit()\n",
    "    \n",
    "    number = 0\n",
    "    for i in stock_list:\n",
    "        print(\"Number: \"+str(number))\n",
    "        try:\n",
    "            predictData(i, 5)\n",
    "        except:\n",
    "            print(\"Stock: \" + i + \" was not predicted\")\n",
    "        number += 1\n",
    "    "
   ]
  },
  {
   "cell_type": "code",
   "execution_count": 5,
   "metadata": {},
   "outputs": [],
   "source": [
    "def predictData(stock, days):\n",
    "    print(stock)\n",
    "\n",
    "    start = datetime(2017, 1, 1)\n",
    "    end = datetime.now()\n",
    "\n",
    "    #Outputting the Historical data into a .csv for later use\n",
    "    df = get_historical_data(stock,start=start, end=end,output_format='pandas')\n",
    "    if os.path.exists('./Exports'):\n",
    "        csv_name = ('Exports/'+ stock +'_Export.csv')\n",
    "    else:\n",
    "        os.mkdir(\"Exports\")\n",
    "        csv_name = ('Exports/'+ stock +'_Export.csv')\n",
    "    df.to_csv(csv_name)\n",
    "    df['prediction'] = df['close'].shift(-1)\n",
    "    df.dropna(inplace=True)\n",
    "\n",
    "    forecast_time = int(days)\n",
    "\n",
    "    #Predicting the Stock price in the future\n",
    "    X = np.array(df.drop(['prediction'], 1))\n",
    "    Y = np.array(df['prediction'])\n",
    "    X = preprocessing.scale(X)\n",
    "    X_prediction = X[-forecast_time:]\n",
    "    X_train, X_test, Y_train, Y_test = train_test_split(X, Y, test_size=0.5)\n",
    "\n",
    "    #Performing the Regression on the training data\n",
    "    clf = LinearRegression()\n",
    "    clf.fit(X_train, Y_train)\n",
    "    prediction = (clf.predict(X_prediction))\n",
    "\n",
    "    last_row = df.tail(1)\n",
    "    print(last_row['close'])"
   ]
  },
  {
   "cell_type": "code",
   "execution_count": 6,
   "metadata": {
    "scrolled": false
   },
   "outputs": [
    {
     "name": "stdout",
     "output_type": "stream",
     "text": [
      "Number: 0\n",
      "AUY\n",
      "date\n",
      "2019-04-30    2.19\n",
      "Name: close, dtype: float64\n",
      "Number: 1\n",
      "AKS\n",
      "date\n",
      "2019-04-30    2.42\n",
      "Name: close, dtype: float64\n",
      "Number: 2\n",
      "DNR\n",
      "date\n",
      "2019-04-30    2.23\n",
      "Name: close, dtype: float64\n",
      "Number: 3\n",
      "NE\n",
      "date\n",
      "2019-04-30    2.63\n",
      "Name: close, dtype: float64\n",
      "Number: 4\n",
      "ESV\n",
      "date\n",
      "2019-04-30    13.97\n",
      "Name: close, dtype: float64\n"
     ]
    }
   ],
   "source": [
    "if __name__ == '__main__':\n",
    "   getStocks(5)"
   ]
  },
  {
   "cell_type": "code",
   "execution_count": null,
   "metadata": {},
   "outputs": [],
   "source": []
  },
  {
   "cell_type": "code",
   "execution_count": null,
   "metadata": {},
   "outputs": [],
   "source": []
  }
 ],
 "metadata": {
  "kernelspec": {
   "display_name": "Python 3",
   "language": "python",
   "name": "python3"
  },
  "language_info": {
   "codemirror_mode": {
    "name": "ipython",
    "version": 3
   },
   "file_extension": ".py",
   "mimetype": "text/x-python",
   "name": "python",
   "nbconvert_exporter": "python",
   "pygments_lexer": "ipython3",
   "version": "3.7.1"
  }
 },
 "nbformat": 4,
 "nbformat_minor": 2
}
